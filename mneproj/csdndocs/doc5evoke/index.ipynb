{
 "cells": [
  {
   "cell_type": "markdown",
   "id": "46101dc1-3904-4603-b1f1-141a74165a92",
   "metadata": {},
   "source": [
    "# Evoked结构\n",
    "Evoked potential(EP)诱发电位或诱发反应是指在出现诸如闪光或纯音之类的刺激后，从人类或其他动物的神经系统，特别是大脑的特定部分记录的特定模式的电位。不同形式和类型的刺激会产生不同类型的电位。\n",
    "\n",
    "诱发电位振幅往往较低，从小于1微伏到数微伏不等，而脑电图为数十微伏，肌电图为毫伏，心电图通常接近20毫伏。为了在EEG、ECG、EMG等生物信号和环境噪声的背景下解决这些低幅度电位，通常需要对信号进行平均。信号被时间锁定在刺激上，大部分噪声是随机产生的，这样就可以通过对重复响应来平均掉噪声。\n",
    "\n",
    "诱发电位(Evoked)结构主要用于存储实验期间的平均数据，在MNE中，创建Evoked对象通常使用mne.Epochs.average()来平均epochs数据来实现。"
   ]
  },
  {
   "cell_type": "code",
   "execution_count": 1,
   "id": "291781b6-5dab-4c66-bdb4-7577de3af3fe",
   "metadata": {
    "tags": []
   },
   "outputs": [
    {
     "name": "stdout",
     "output_type": "stream",
     "text": [
      "Reading C:\\Users\\mrrai\\mne_data\\MNE-sample-data\\MEG\\sample\\sample_audvis-ave.fif ...\n",
      "    Read a total of 4 projection items:\n",
      "        PCA-v1 (1 x 102) active\n",
      "        PCA-v2 (1 x 102) active\n",
      "        PCA-v3 (1 x 102) active\n",
      "        Average EEG reference (1 x 60) active\n",
      "    Found the data of interest:\n",
      "        t =    -199.80 ...     499.49 ms (Left Auditory)\n",
      "        0 CTF compensation matrices available\n",
      "        nave = 55 - aspect type = 100\n",
      "Projections have already been applied. Setting proj attribute to True.\n",
      "Applying baseline correction (mode: mean)\n",
      "    Read a total of 4 projection items:\n",
      "        PCA-v1 (1 x 102) active\n",
      "        PCA-v2 (1 x 102) active\n",
      "        PCA-v3 (1 x 102) active\n",
      "        Average EEG reference (1 x 60) active\n",
      "    Found the data of interest:\n",
      "        t =    -199.80 ...     499.49 ms (Right Auditory)\n",
      "        0 CTF compensation matrices available\n",
      "        nave = 61 - aspect type = 100\n",
      "Projections have already been applied. Setting proj attribute to True.\n",
      "Applying baseline correction (mode: mean)\n",
      "    Read a total of 4 projection items:\n",
      "        PCA-v1 (1 x 102) active\n",
      "        PCA-v2 (1 x 102) active\n",
      "        PCA-v3 (1 x 102) active\n",
      "        Average EEG reference (1 x 60) active\n",
      "    Found the data of interest:\n",
      "        t =    -199.80 ...     499.49 ms (Left visual)\n",
      "        0 CTF compensation matrices available\n",
      "        nave = 67 - aspect type = 100\n",
      "Projections have already been applied. Setting proj attribute to True.\n",
      "Applying baseline correction (mode: mean)\n",
      "    Read a total of 4 projection items:\n",
      "        PCA-v1 (1 x 102) active\n",
      "        PCA-v2 (1 x 102) active\n",
      "        PCA-v3 (1 x 102) active\n",
      "        Average EEG reference (1 x 60) active\n",
      "    Found the data of interest:\n",
      "        t =    -199.80 ...     499.49 ms (Right visual)\n",
      "        0 CTF compensation matrices available\n",
      "        nave = 58 - aspect type = 100\n",
      "Projections have already been applied. Setting proj attribute to True.\n",
      "Applying baseline correction (mode: mean)\n",
      "[<Evoked | 'Left Auditory' (average, N=55), -0.1998 – 0.49949 sec, baseline -0.199795 – 0 sec, 376 ch, ~4.5 MB>, <Evoked | 'Right Auditory' (average, N=61), -0.1998 – 0.49949 sec, baseline -0.199795 – 0 sec, 376 ch, ~4.5 MB>, <Evoked | 'Left visual' (average, N=67), -0.1998 – 0.49949 sec, baseline -0.199795 – 0 sec, 376 ch, ~4.5 MB>, <Evoked | 'Right visual' (average, N=58), -0.1998 – 0.49949 sec, baseline -0.199795 – 0 sec, 376 ch, ~4.5 MB>]\n"
     ]
    }
   ],
   "source": [
    "#导入包\n",
    "import os.path as op\n",
    "import matplotlib.pyplot as plt\n",
    "import mne\n",
    "\n",
    "\"\"\"\n",
    "从文件中读取诱发数据集\n",
    "\"\"\"\n",
    "data_path = mne.datasets.sample.data_path()\n",
    "fname = op.join(data_path, 'MEG', 'sample', 'sample_audvis-ave.fif')\n",
    "evokeds = mne.read_evokeds(fname, baseline=(None, 0), proj=True)\n",
    "print(evokeds)  # 使用read_evokeds函数加载诱发文件，并返回evoked实例列表，可以使用condition参数来读取指定类别"
   ]
  },
  {
   "cell_type": "code",
   "execution_count": 2,
   "id": "73537d95-0464-4d2b-8aa4-54f325b44a90",
   "metadata": {
    "tags": []
   },
   "outputs": [
    {
     "name": "stdout",
     "output_type": "stream",
     "text": [
      "Reading C:\\Users\\mrrai\\mne_data\\MNE-sample-data\\MEG\\sample\\sample_audvis-ave.fif ...\n",
      "    Read a total of 4 projection items:\n",
      "        PCA-v1 (1 x 102) active\n",
      "        PCA-v2 (1 x 102) active\n",
      "        PCA-v3 (1 x 102) active\n",
      "        Average EEG reference (1 x 60) active\n",
      "    Found the data of interest:\n",
      "        t =    -199.80 ...     499.49 ms (Left Auditory)\n",
      "        0 CTF compensation matrices available\n",
      "        nave = 55 - aspect type = 100\n",
      "Projections have already been applied. Setting proj attribute to True.\n",
      "No baseline correction applied\n",
      "Applying baseline correction (mode: mean)\n",
      "Projections have already been applied. Setting proj attribute to True.\n",
      "<Evoked | 'Left Auditory' (average, N=55), -0.1998 – 0.49949 sec, baseline -0.199795 – 0 sec, 376 ch, ~4.5 MB>\n",
      "<Info | 16 non-empty values\n",
      " bads: 2 items (MEG 2443, EEG 053)\n",
      " ch_names: MEG 0113, MEG 0112, MEG 0111, MEG 0122, MEG 0123, MEG 0121, MEG ...\n",
      " chs: 204 Gradiometers, 102 Magnetometers, 9 Stimulus, 60 EEG, 1 EOG\n",
      " custom_ref_applied: False\n",
      " dev_head_t: MEG device -> head transform\n",
      " dig: 146 items (3 Cardinal, 4 HPI, 61 EEG, 78 Extra)\n",
      " file_id: 4 items (dict)\n",
      " highpass: 0.1 Hz\n",
      " hpi_meas: 1 item (list)\n",
      " hpi_results: 1 item (list)\n",
      " lowpass: 40.0 Hz\n",
      " maxshield: False\n",
      " meas_date: 2002-12-03 19:01:10 UTC\n",
      " meas_id: 4 items (dict)\n",
      " nchan: 376\n",
      " projs: PCA-v1: on, PCA-v2: on, PCA-v3: on, Average EEG reference: on\n",
      " sfreq: 600.6 Hz\n",
      ">\n",
      "[-0.19979521 -0.19813025 -0.19646529 -0.19480033 -0.19313537 -0.19147041\n",
      " -0.18980545 -0.18814049 -0.18647553 -0.18481057 -0.18314561 -0.18148065\n",
      " -0.17981569 -0.17815073 -0.17648577 -0.17482081 -0.17315585 -0.17149089\n",
      " -0.16982593 -0.16816097 -0.16649601 -0.16483105 -0.16316609 -0.16150113\n",
      " -0.15983617 -0.15817121 -0.15650625 -0.15484129 -0.15317633 -0.15151137\n",
      " -0.14984641 -0.14818145 -0.14651649 -0.14485153 -0.14318657 -0.14152161\n",
      " -0.13985665 -0.13819169 -0.13652673 -0.13486177 -0.13319681 -0.13153185\n",
      " -0.12986689 -0.12820193 -0.12653697 -0.12487201 -0.12320705 -0.12154209\n",
      " -0.11987713 -0.11821217 -0.11654721 -0.11488225 -0.11321729 -0.11155233\n",
      " -0.10988737 -0.10822241 -0.10655745 -0.10489249 -0.10322753 -0.10156257\n",
      " -0.09989761 -0.09823265 -0.09656769 -0.09490273 -0.09323777 -0.09157281\n",
      " -0.08990785 -0.08824289 -0.08657793 -0.08491297 -0.08324801 -0.08158305\n",
      " -0.07991809 -0.07825313 -0.07658817 -0.0749232  -0.07325824 -0.07159328\n",
      " -0.06992832 -0.06826336 -0.0665984  -0.06493344 -0.06326848 -0.06160352\n",
      " -0.05993856 -0.0582736  -0.05660864 -0.05494368 -0.05327872 -0.05161376\n",
      " -0.0499488  -0.04828384 -0.04661888 -0.04495392 -0.04328896 -0.041624\n",
      " -0.03995904 -0.03829408 -0.03662912 -0.03496416 -0.0332992  -0.03163424\n",
      " -0.02996928 -0.02830432 -0.02663936 -0.0249744  -0.02330944 -0.02164448\n",
      " -0.01997952 -0.01831456 -0.0166496  -0.01498464 -0.01331968 -0.01165472\n",
      " -0.00998976 -0.0083248  -0.00665984 -0.00499488 -0.00332992 -0.00166496\n",
      "  0.          0.00166496  0.00332992  0.00499488  0.00665984  0.0083248\n",
      "  0.00998976  0.01165472  0.01331968  0.01498464  0.0166496   0.01831456\n",
      "  0.01997952  0.02164448  0.02330944  0.0249744   0.02663936  0.02830432\n",
      "  0.02996928  0.03163424  0.0332992   0.03496416  0.03662912  0.03829408\n",
      "  0.03995904  0.041624    0.04328896  0.04495392  0.04661888  0.04828384\n",
      "  0.0499488   0.05161376  0.05327872  0.05494368  0.05660864  0.0582736\n",
      "  0.05993856  0.06160352  0.06326848  0.06493344  0.0665984   0.06826336\n",
      "  0.06992832  0.07159328  0.07325824  0.0749232   0.07658817  0.07825313\n",
      "  0.07991809  0.08158305  0.08324801  0.08491297  0.08657793  0.08824289\n",
      "  0.08990785  0.09157281  0.09323777  0.09490273  0.09656769  0.09823265\n",
      "  0.09989761  0.10156257  0.10322753  0.10489249  0.10655745  0.10822241\n",
      "  0.10988737  0.11155233  0.11321729  0.11488225  0.11654721  0.11821217\n",
      "  0.11987713  0.12154209  0.12320705  0.12487201  0.12653697  0.12820193\n",
      "  0.12986689  0.13153185  0.13319681  0.13486177  0.13652673  0.13819169\n",
      "  0.13985665  0.14152161  0.14318657  0.14485153  0.14651649  0.14818145\n",
      "  0.14984641  0.15151137  0.15317633  0.15484129  0.15650625  0.15817121\n",
      "  0.15983617  0.16150113  0.16316609  0.16483105  0.16649601  0.16816097\n",
      "  0.16982593  0.17149089  0.17315585  0.17482081  0.17648577  0.17815073\n",
      "  0.17981569  0.18148065  0.18314561  0.18481057  0.18647553  0.18814049\n",
      "  0.18980545  0.19147041  0.19313537  0.19480033  0.19646529  0.19813025\n",
      "  0.19979521  0.20146017  0.20312513  0.20479009  0.20645505  0.20812001\n",
      "  0.20978497  0.21144993  0.21311489  0.21477985  0.21644481  0.21810977\n",
      "  0.21977473  0.22143969  0.22310465  0.22476961  0.22643457  0.22809954\n",
      "  0.2297645   0.23142946  0.23309442  0.23475938  0.23642434  0.2380893\n",
      "  0.23975426  0.24141922  0.24308418  0.24474914  0.2464141   0.24807906\n",
      "  0.24974402  0.25140898  0.25307394  0.2547389   0.25640386  0.25806882\n",
      "  0.25973378  0.26139874  0.2630637   0.26472866  0.26639362  0.26805858\n",
      "  0.26972354  0.2713885   0.27305346  0.27471842  0.27638338  0.27804834\n",
      "  0.2797133   0.28137826  0.28304322  0.28470818  0.28637314  0.2880381\n",
      "  0.28970306  0.29136802  0.29303298  0.29469794  0.2963629   0.29802786\n",
      "  0.29969282  0.30135778  0.30302274  0.3046877   0.30635266  0.30801762\n",
      "  0.30968258  0.31134754  0.3130125   0.31467746  0.31634242  0.31800738\n",
      "  0.31967234  0.3213373   0.32300226  0.32466722  0.32633218  0.32799714\n",
      "  0.3296621   0.33132706  0.33299202  0.33465698  0.33632194  0.3379869\n",
      "  0.33965186  0.34131682  0.34298178  0.34464674  0.3463117   0.34797666\n",
      "  0.34964162  0.35130658  0.35297154  0.3546365   0.35630146  0.35796642\n",
      "  0.35963138  0.36129634  0.3629613   0.36462626  0.36629122  0.36795618\n",
      "  0.36962114  0.3712861   0.37295106  0.37461602  0.37628098  0.37794594\n",
      "  0.37961091  0.38127587  0.38294083  0.38460579  0.38627075  0.38793571\n",
      "  0.38960067  0.39126563  0.39293059  0.39459555  0.39626051  0.39792547\n",
      "  0.39959043  0.40125539  0.40292035  0.40458531  0.40625027  0.40791523\n",
      "  0.40958019  0.41124515  0.41291011  0.41457507  0.41624003  0.41790499\n",
      "  0.41956995  0.42123491  0.42289987  0.42456483  0.42622979  0.42789475\n",
      "  0.42955971  0.43122467  0.43288963  0.43455459  0.43621955  0.43788451\n",
      "  0.43954947  0.44121443  0.44287939  0.44454435  0.44620931  0.44787427\n",
      "  0.44953923  0.45120419  0.45286915  0.45453411  0.45619907  0.45786403\n",
      "  0.45952899  0.46119395  0.46285891  0.46452387  0.46618883  0.46785379\n",
      "  0.46951875  0.47118371  0.47284867  0.47451363  0.47617859  0.47784355\n",
      "  0.47950851  0.48117347  0.48283843  0.48450339  0.48616835  0.48783331\n",
      "  0.48949827  0.49116323  0.49282819  0.49449315  0.49615811  0.49782307\n",
      "  0.49948803]\n"
     ]
    }
   ],
   "source": [
    "evoked = mne.read_evokeds(fname, condition='Left Auditory')\n",
    "evoked.apply_baseline((None, 0)).apply_proj()\n",
    "print(evoked)\n",
    "# 打印evoked的信息，这个信息和Raw对象以及Epochs对象中的info很相似\n",
    "print(evoked.info)\n",
    "print(evoked.times)"
   ]
  },
  {
   "cell_type": "code",
   "execution_count": 3,
   "id": "ec1207d8-9751-46f2-8040-c42fb8db4f89",
   "metadata": {
    "tags": []
   },
   "outputs": [
    {
     "name": "stdout",
     "output_type": "stream",
     "text": [
      "55\n",
      "-120\n",
      "300\n",
      "Left Auditory\n",
      "average\n"
     ]
    }
   ],
   "source": [
    "# 查看evoked结构其他属性\n",
    "print(evoked.nave)  # Number of averaged epochs.\n",
    "print(evoked.first)  # First time sample.\n",
    "print(evoked.last)  # Last time sample.\n",
    "print(evoked.comment)  # Comment on dataset. Usually the condition.\n",
    "print(evoked.kind)  # Type of data, either average or standard_error."
   ]
  },
  {
   "cell_type": "code",
   "execution_count": 4,
   "id": "a9d88d87-a463-431b-a3fd-d29b800dd751",
   "metadata": {
    "tags": []
   },
   "outputs": [
    {
     "name": "stdout",
     "output_type": "stream",
     "text": [
      "Removing projector <Projection | PCA-v1, active : True, n_channels : 102>\n",
      "Removing projector <Projection | PCA-v2, active : True, n_channels : 102>\n",
      "Removing projector <Projection | PCA-v3, active : True, n_channels : 102>\n"
     ]
    },
    {
     "data": {
      "image/png": "[encoded data removed]",
      "text/plain": [
       "<Figure size 640x480 with 1 Axes>"
      ]
     },
     "metadata": {},
     "output_type": "display_data"
    }
   ],
   "source": [
    "# 快速提取并绘制全局能量谱(Global Field Power, GFP)作为跨通道的标准偏差\n",
    "gfp = evoked.copy().pick_types(eeg=True, meg=False).data.std(axis=0)\n",
    "fig, ax = plt.subplots(1)\n",
    "ax.plot(evoked.times, gfp / 1e6)  # scale to uV\n",
    "ax.set(xlabel='Time (sec)', ylabel='GFP (uV)')\n",
    "fig.tight_layout()\n"
   ]
  },
  {
   "cell_type": "code",
   "execution_count": null,
   "id": "4156cdc8-3dbc-4bf9-b3ad-d72bf15dda88",
   "metadata": {},
   "outputs": [],
   "source": []
  }
 ],
 "metadata": {
  "kernelspec": {
   "display_name": "Python 3 (ipykernel)",
   "language": "python",
   "name": "python3"
  },
  "language_info": {
   "codemirror_mode": {
    "name": "ipython",
    "version": 3
   },
   "file_extension": ".py",
   "mimetype": "text/x-python",
   "name": "python",
   "nbconvert_exporter": "python",
   "pygments_lexer": "ipython3",
   "version": "3.8.16"
  }
 },
 "nbformat": 4,
 "nbformat_minor": 5
}
