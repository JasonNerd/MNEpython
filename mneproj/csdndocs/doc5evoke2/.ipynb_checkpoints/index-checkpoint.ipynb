{
 "cells": [
  {
   "cell_type": "code",
   "execution_count": 1,
   "id": "504e4857-eea9-4f68-ab10-67965a4dd005",
   "metadata": {
    "tags": []
   },
   "outputs": [
    {
     "ename": "TypeError",
     "evalue": "unsupported operand type(s) for +: 'WindowsPath' and 'str'",
     "output_type": "error",
     "traceback": [
      "\u001b[1;31m---------------------------------------------------------------------------\u001b[0m",
      "\u001b[1;31mTypeError\u001b[0m                                 Traceback (most recent call last)",
      "Cell \u001b[1;32mIn[1], line 9\u001b[0m\n\u001b[0;32m      5\u001b[0m \u001b[38;5;124;03m\"\"\"\u001b[39;00m\n\u001b[0;32m      6\u001b[0m \u001b[38;5;124;03m1. 读取文件得到evoked数据, 仅以 Left Auditory 为例\u001b[39;00m\n\u001b[0;32m      7\u001b[0m \u001b[38;5;124;03m\"\"\"\u001b[39;00m\n\u001b[0;32m      8\u001b[0m data_path \u001b[38;5;241m=\u001b[39m sample\u001b[38;5;241m.\u001b[39mdata_path()\n\u001b[1;32m----> 9\u001b[0m fname \u001b[38;5;241m=\u001b[39m \u001b[43mdata_path\u001b[49m\u001b[43m \u001b[49m\u001b[38;5;241;43m+\u001b[39;49m\u001b[43m \u001b[49m\u001b[38;5;124;43m'\u001b[39;49m\u001b[38;5;124;43m/MEG/sample/sample_audvis-ave.fif\u001b[39;49m\u001b[38;5;124;43m'\u001b[39;49m\n\u001b[0;32m     10\u001b[0m condition \u001b[38;5;241m=\u001b[39m \u001b[38;5;124m'\u001b[39m\u001b[38;5;124mLeft Auditory\u001b[39m\u001b[38;5;124m'\u001b[39m\n\u001b[0;32m     11\u001b[0m evoked \u001b[38;5;241m=\u001b[39m read_evokeds(fname, condition\u001b[38;5;241m=\u001b[39mcondition, baseline\u001b[38;5;241m=\u001b[39m(\u001b[38;5;28;01mNone\u001b[39;00m, \u001b[38;5;241m0\u001b[39m), proj\u001b[38;5;241m=\u001b[39m\u001b[38;5;28;01mTrue\u001b[39;00m)\n",
      "\u001b[1;31mTypeError\u001b[0m: unsupported operand type(s) for +: 'WindowsPath' and 'str'"
     ]
    }
   ],
   "source": [
    "from mne import read_evokeds\n",
    "from mne.datasets import sample\n",
    "import matplotlib.pyplot as plt\n",
    "\n",
    "\"\"\"\n",
    "1. 读取文件得到evoked数据, 仅以 Left Auditory 为例\n",
    "\"\"\"\n",
    "data_path = str(sample.data_path())\n",
    "fname = data_path + '/MEG/sample/sample_audvis-ave.fif'\n",
    "condition = 'Left Auditory'\n",
    "evoked = read_evokeds(fname, condition=condition, baseline=(None, 0), proj=True)"
   ]
  },
  {
   "cell_type": "code",
   "execution_count": null,
   "id": "656bb9f7-ef1a-403b-9f68-d1c138da5bac",
   "metadata": {},
   "outputs": [],
   "source": []
  }
 ],
 "metadata": {
  "kernelspec": {
   "display_name": "Python 3 (ipykernel)",
   "language": "python",
   "name": "python3"
  },
  "language_info": {
   "codemirror_mode": {
    "name": "ipython",
    "version": 3
   },
   "file_extension": ".py",
   "mimetype": "text/x-python",
   "name": "python",
   "nbconvert_exporter": "python",
   "pygments_lexer": "ipython3",
   "version": "3.8.16"
  }
 },
 "nbformat": 4,
 "nbformat_minor": 5
}
